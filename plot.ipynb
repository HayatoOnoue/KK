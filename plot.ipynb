{
 "cells": [
  {
   "cell_type": "markdown",
   "metadata": {
    "colab_type": "text",
    "id": "VXEnmFmUpHvj"
   },
   "source": [
    "# Estimate coordinates of nodes with adjacency matrix by GCNN"
   ]
  },
  {
   "cell_type": "markdown",
   "metadata": {
    "colab_type": "text",
    "id": "yMAR0SEvNVpd"
   },
   "source": [
    "## Import packages"
   ]
  },
  {
   "cell_type": "code",
   "execution_count": null,
   "metadata": {
    "colab": {
     "base_uri": "https://localhost:8080/",
     "height": 34
    },
    "colab_type": "code",
    "executionInfo": {
     "elapsed": 102022,
     "status": "ok",
     "timestamp": 1599559457598,
     "user": {
      "displayName": "Hayato Onoue",
      "photoUrl": "",
      "userId": "07486968416296706504"
     },
     "user_tz": -540
    },
    "id": "PhVO0ABfv1r1",
    "outputId": "a0d99181-8ec0-48d2-c999-ae8d84cc765a",
    "tags": []
   },
   "outputs": [],
   "source": [
    "import random\n",
    "import time\n",
    "\n",
    "import networkx as nx\n",
    "import numpy as np\n",
    "\n",
    "import matplotlib as mpl\n",
    "from matplotlib import pyplot as plt\n",
    "from scipy.io import mmread\n",
    "\n",
    "# random seed\n",
    "np.random.seed(1234)\n",
    "random.seed(1234)"
   ]
  },
  {
   "cell_type": "markdown",
   "metadata": {
    "colab_type": "text",
    "id": "HBkC2aF4eGH-"
   },
   "source": [
    "## Visualization"
   ]
  },
  {
   "cell_type": "code",
   "execution_count": null,
   "metadata": {},
   "outputs": [],
   "source": [
    "adj_coo = mmread(\"adj.mtx\")\n",
    "initA = mmread(\"initA.mtx\")\n",
    "initB = mmread(\"initB.mtx\")\n",
    "\n",
    "\n",
    "G = nx.from_scipy_sparse_matrix(adj_coo)\n",
    "\n",
    "A_pos = dict(zip(list(range(initA.shape[0])), initA))\n",
    "B_pos = dict(zip(list(range(initB.shape[0])), initB))\n",
    "\n",
    "#KK_pos = nx.kamada_kawai_layout(G,pos=nx.random_layout(G, dim=2, seed=1), weight=\"weight\", dim=2)\n",
    "\n",
    "print(A_pos)\n",
    "\n",
    "fig = plt.figure()\n",
    "ax1=fig.add_subplot(1,2,1)\n",
    "ax1.set_title(\"True\")\n",
    "#ax.set_xlim(left=-1.5, right=1.5)\n",
    "#ax.set_ylim(bottom=-2, top=2)\n",
    "#nx.draw_networkx_nodes(G, pos=A_pos, ax=ax, node_color=\"red\", node_size=2)\n",
    "ax1.scatter(initA.T[0], initA.T[1], c=\"red\")\n",
    "ax1.scatter(initB.T[0], initB.T[1], c=\"blue\")\n",
    "\n",
    "ax1.tick_params(which=\"both\", left=True, bottom=True, labelleft=True, labelbottom=True)\n",
    "ax1.set_aspect(aspect=\"equal\")\n",
    "\n",
    "ax1.xaxis.set_major_locator(mpl.ticker.MultipleLocator(0.5))\n",
    "ax1.xaxis.set_minor_locator(mpl.ticker.MultipleLocator(0.1))\n",
    "ax1.yaxis.set_major_locator(mpl.ticker.MultipleLocator(0.5))\n",
    "ax1.yaxis.set_minor_locator(mpl.ticker.MultipleLocator(0.1))\n",
    "\n",
    "\n",
    "ax2=fig.add_subplot(1,2,2)\n",
    "ax2.set_title(\"Kamada-Kawai\")\n",
    "#ax.set_xlim(left=-1.5, right=1.5)\n",
    "#ax.set_ylim(bottom=-2, top=2)\n",
    "#nx.draw_networkx_nodes(G, pos=A_pos, ax=ax, node_color=\"red\", node_size=2)\n",
    "x, y = np.array(list(KK_pos.values())).T\n",
    "ax2.scatter(x, y, c=\"green\")\n",
    "\n",
    "ax2.tick_params(which=\"both\", left=True, bottom=True, labelleft=True, labelbottom=True)\n",
    "ax2.set_aspect(aspect=\"equal\")\n",
    "\n",
    "ax2.xaxis.set_major_locator(mpl.ticker.MultipleLocator(0.5))\n",
    "ax2.xaxis.set_minor_locator(mpl.ticker.MultipleLocator(0.1))\n",
    "ax2.yaxis.set_major_locator(mpl.ticker.MultipleLocator(0.5))\n",
    "ax2.yaxis.set_minor_locator(mpl.ticker.MultipleLocator(0.1))\n",
    "\n",
    "plt.show()"
   ]
  }
 ],
 "metadata": {
  "accelerator": "GPU",
  "colab": {
   "collapsed_sections": [],
   "name": "reconstruction.ipynb",
   "provenance": [],
   "toc_visible": true
  },
  "kernelspec": {
   "display_name": "Python 3",
   "language": "python",
   "name": "python3"
  },
  "language_info": {
   "codemirror_mode": {
    "name": "ipython",
    "version": 3
   },
   "file_extension": ".py",
   "mimetype": "text/x-python",
   "name": "python",
   "nbconvert_exporter": "python",
   "pygments_lexer": "ipython3",
   "version": "3.8.5-final"
  }
 },
 "nbformat": 4,
 "nbformat_minor": 4
}